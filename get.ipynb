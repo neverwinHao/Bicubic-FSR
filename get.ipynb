{
 "cells": [
  {
   "cell_type": "code",
   "execution_count": 1,
   "metadata": {},
   "outputs": [
    {
     "name": "stdout",
     "output_type": "stream",
     "text": [
      "文件名已写入image_filenames.txt文件中。\n"
     ]
    }
   ],
   "source": [
    "import os\n",
    "\n",
    "# 指定图片所在的文件夹路径\n",
    "folder_path = './HR'\n",
    "\n",
    "# 获取文件夹中所有图片的文件名并按照顺序排序\n",
    "image_files = sorted([f for f in os.listdir(folder_path) if f.endswith('.jpg') or f.endswith('.png')])\n",
    "\n",
    "# 创建一个txt文件用于存储文件名\n",
    "with open('image_filenames.txt', 'w') as txt_file:\n",
    "    # 逐行写入文件名\n",
    "    for filename in image_files:\n",
    "        txt_file.write(filename + '\\n')\n",
    "\n",
    "print(\"文件名已写入image_filenames.txt文件中。\")\n"
   ]
  },
  {
   "cell_type": "code",
   "execution_count": 4,
   "metadata": {},
   "outputs": [
    {
     "name": "stdout",
     "output_type": "stream",
     "text": [
      "./HR\n",
      "./LR_X4\n"
     ]
    }
   ],
   "source": [
    "import os\n",
    "import argparse\n",
    "import cv2\n",
    " \n",
    "\n",
    "lr_image_dir = './LR_X4'\n",
    "hr_image_dir = './HR'\n",
    "scale = 4\n",
    "\n",
    "print(hr_image_dir)\n",
    "print(lr_image_dir)\n",
    " \n",
    "# create LR image dirs\n",
    "os.makedirs(hr_image_dir + f\"\\X{scale}result\", exist_ok=True) #创建保存结果的文件夹\n",
    " \n",
    " \n",
    "supported_img_formats = (\".bmp\", \".dib\", \".jpeg\", \".jpg\", \".jpe\", \".jp2\",\n",
    "                         \".png\", \".pbm\", \".pgm\", \".ppm\", \".sr\", \".ras\", \".tif\",\n",
    "                         \".tiff\")\n",
    " \n",
    "# Upsample LR images\n",
    "for filename in os.listdir(lr_image_dir):\n",
    "    if not filename.endswith(supported_img_formats):\n",
    "        continue\n",
    " \n",
    "    name, ext = os.path.splitext(filename)\n",
    "    # Read LR image\n",
    "    lr_img = cv2.imread(os.path.join(lr_image_dir, filename))\n",
    "    hr_img_dims = (lr_img.shape[1], lr_img.shape[0])\n",
    " \n",
    "    keepdims = False\n",
    "    # Upsample image\n",
    "    lr_image = cv2.resize(lr_img, (0, 0), fx=int(f\"{scale}\"), fy=int(f\"{scale}\"), interpolation=cv2.INTER_CUBIC)\n",
    "    if keepdims:\n",
    "        lr_image = cv2.resize(lr_image, hr_img_dims, interpolation=cv2.INTER_CUBIC)\n",
    " \n",
    "    cv2.imwrite(os.path.join(hr_image_dir + f\"\\X{scale}result\", f\"x{scale}_\"+filename.split('.')[0]  + ext), lr_image) #保存高分辨率图像"
   ]
  }
 ],
 "metadata": {
  "kernelspec": {
   "display_name": "face",
   "language": "python",
   "name": "python3"
  },
  "language_info": {
   "codemirror_mode": {
    "name": "ipython",
    "version": 3
   },
   "file_extension": ".py",
   "mimetype": "text/x-python",
   "name": "python",
   "nbconvert_exporter": "python",
   "pygments_lexer": "ipython3",
   "version": "3.9.18"
  }
 },
 "nbformat": 4,
 "nbformat_minor": 2
}
